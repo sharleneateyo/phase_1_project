{
 "cells": [
  {
   "cell_type": "markdown",
   "metadata": {},
   "source": [
    "# .Business understanding\n",
    "\n",
    "Aircraft vary widely in their safety records depending on manufacturer, model, maintenance history, usage, and geography.While modern aircraft are statistically very safe, historical data shows that certain models and types have accidents rates often linked to operational environment, mechanical complexities or outdated systems. a good safety record of an airline is critical towards its operational market, survival, reputation, prestige and most importantly passengers confidence towards its service offered. \n",
    "\n",
    "The company being new to aircraft enterprise, lacks experience in aircraft risk assessment. its therefore important to determine which aircraft has lowest risks for the organization to makes decisions on which aircraft to purchase. \n",
    "\n",
    "## .Business objective \n",
    "The organization is expanding into the aviation industry and seeks to identify aircrafts with low-risks in order to proceed with purchase and starts its operations. the goal is to ensure safety and purchasing a reliable aircraft for commercial and private use.\n",
    "### .Objectives and business questions\n",
    "1) which aircrafts model has the lowest historical accident rates\n",
    "\n",
    "2) Are certain aircrafts more reliable than others\n",
    "\n",
    "3) does use-case(private or commercial) impact risks\n",
    " \n",
    "\n",
    "## .Metric of success\n",
    "The success of the business depends on evidence-based recommendations on low risk aircraft before initial purchase. insights must be actionable, understandable to non-technical leadership and can be used in procurement process.\n",
    "\n",
    "# .Data understanding \n",
    "The data to be used in this analysis is from the National Transportation Safety Board that includes aviation accident data from 1962 to 2023 about civil aviation accidents and selected incidents in the United States and international waters.\n",
    "\n"
   ]
  },
  {
   "cell_type": "markdown",
   "metadata": {},
   "source": [
    "## Loading dataset and getting the information"
   ]
  },
  {
   "cell_type": "code",
   "execution_count": 208,
   "metadata": {},
   "outputs": [],
   "source": [
    "# importing necessary libraries to be used\n",
    "import pandas as pd\n",
    "import numpy as np\n",
    "import seaborn as sns\n",
    "from matplotlib import pyplot as plt\n",
    "\n",
    "%matplotlib inline"
   ]
  },
  {
   "cell_type": "code",
   "execution_count": 209,
   "metadata": {},
   "outputs": [
    {
     "name": "stderr",
     "output_type": "stream",
     "text": [
      "C:\\Users\\User\\anaconda3\\envs\\learn-env\\lib\\site-packages\\IPython\\core\\interactiveshell.py:3145: DtypeWarning: Columns (6,7,28) have mixed types.Specify dtype option on import or set low_memory=False.\n",
      "  has_raised = await self.run_ast_nodes(code_ast.body, cell_name,\n"
     ]
    },
    {
     "data": {
      "text/html": [
       "<div>\n",
       "<style scoped>\n",
       "    .dataframe tbody tr th:only-of-type {\n",
       "        vertical-align: middle;\n",
       "    }\n",
       "\n",
       "    .dataframe tbody tr th {\n",
       "        vertical-align: top;\n",
       "    }\n",
       "\n",
       "    .dataframe thead th {\n",
       "        text-align: right;\n",
       "    }\n",
       "</style>\n",
       "<table border=\"1\" class=\"dataframe\">\n",
       "  <thead>\n",
       "    <tr style=\"text-align: right;\">\n",
       "      <th></th>\n",
       "      <th>Event.Id</th>\n",
       "      <th>Investigation.Type</th>\n",
       "      <th>Accident.Number</th>\n",
       "      <th>Event.Date</th>\n",
       "      <th>Location</th>\n",
       "      <th>Country</th>\n",
       "      <th>Latitude</th>\n",
       "      <th>Longitude</th>\n",
       "      <th>Airport.Code</th>\n",
       "      <th>Airport.Name</th>\n",
       "      <th>...</th>\n",
       "      <th>Purpose.of.flight</th>\n",
       "      <th>Air.carrier</th>\n",
       "      <th>Total.Fatal.Injuries</th>\n",
       "      <th>Total.Serious.Injuries</th>\n",
       "      <th>Total.Minor.Injuries</th>\n",
       "      <th>Total.Uninjured</th>\n",
       "      <th>Weather.Condition</th>\n",
       "      <th>Broad.phase.of.flight</th>\n",
       "      <th>Report.Status</th>\n",
       "      <th>Publication.Date</th>\n",
       "    </tr>\n",
       "  </thead>\n",
       "  <tbody>\n",
       "    <tr>\n",
       "      <th>0</th>\n",
       "      <td>20001218X45444</td>\n",
       "      <td>Accident</td>\n",
       "      <td>SEA87LA080</td>\n",
       "      <td>1948-10-24</td>\n",
       "      <td>MOOSE CREEK, ID</td>\n",
       "      <td>United States</td>\n",
       "      <td>NaN</td>\n",
       "      <td>NaN</td>\n",
       "      <td>NaN</td>\n",
       "      <td>NaN</td>\n",
       "      <td>...</td>\n",
       "      <td>Personal</td>\n",
       "      <td>NaN</td>\n",
       "      <td>2.0</td>\n",
       "      <td>0.0</td>\n",
       "      <td>0.0</td>\n",
       "      <td>0.0</td>\n",
       "      <td>UNK</td>\n",
       "      <td>Cruise</td>\n",
       "      <td>Probable Cause</td>\n",
       "      <td>NaN</td>\n",
       "    </tr>\n",
       "    <tr>\n",
       "      <th>1</th>\n",
       "      <td>20001218X45447</td>\n",
       "      <td>Accident</td>\n",
       "      <td>LAX94LA336</td>\n",
       "      <td>1962-07-19</td>\n",
       "      <td>BRIDGEPORT, CA</td>\n",
       "      <td>United States</td>\n",
       "      <td>NaN</td>\n",
       "      <td>NaN</td>\n",
       "      <td>NaN</td>\n",
       "      <td>NaN</td>\n",
       "      <td>...</td>\n",
       "      <td>Personal</td>\n",
       "      <td>NaN</td>\n",
       "      <td>4.0</td>\n",
       "      <td>0.0</td>\n",
       "      <td>0.0</td>\n",
       "      <td>0.0</td>\n",
       "      <td>UNK</td>\n",
       "      <td>Unknown</td>\n",
       "      <td>Probable Cause</td>\n",
       "      <td>19-09-1996</td>\n",
       "    </tr>\n",
       "    <tr>\n",
       "      <th>2</th>\n",
       "      <td>20061025X01555</td>\n",
       "      <td>Accident</td>\n",
       "      <td>NYC07LA005</td>\n",
       "      <td>1974-08-30</td>\n",
       "      <td>Saltville, VA</td>\n",
       "      <td>United States</td>\n",
       "      <td>36.9222</td>\n",
       "      <td>-81.8781</td>\n",
       "      <td>NaN</td>\n",
       "      <td>NaN</td>\n",
       "      <td>...</td>\n",
       "      <td>Personal</td>\n",
       "      <td>NaN</td>\n",
       "      <td>3.0</td>\n",
       "      <td>NaN</td>\n",
       "      <td>NaN</td>\n",
       "      <td>NaN</td>\n",
       "      <td>IMC</td>\n",
       "      <td>Cruise</td>\n",
       "      <td>Probable Cause</td>\n",
       "      <td>26-02-2007</td>\n",
       "    </tr>\n",
       "    <tr>\n",
       "      <th>3</th>\n",
       "      <td>20001218X45448</td>\n",
       "      <td>Accident</td>\n",
       "      <td>LAX96LA321</td>\n",
       "      <td>1977-06-19</td>\n",
       "      <td>EUREKA, CA</td>\n",
       "      <td>United States</td>\n",
       "      <td>NaN</td>\n",
       "      <td>NaN</td>\n",
       "      <td>NaN</td>\n",
       "      <td>NaN</td>\n",
       "      <td>...</td>\n",
       "      <td>Personal</td>\n",
       "      <td>NaN</td>\n",
       "      <td>2.0</td>\n",
       "      <td>0.0</td>\n",
       "      <td>0.0</td>\n",
       "      <td>0.0</td>\n",
       "      <td>IMC</td>\n",
       "      <td>Cruise</td>\n",
       "      <td>Probable Cause</td>\n",
       "      <td>12-09-2000</td>\n",
       "    </tr>\n",
       "    <tr>\n",
       "      <th>4</th>\n",
       "      <td>20041105X01764</td>\n",
       "      <td>Accident</td>\n",
       "      <td>CHI79FA064</td>\n",
       "      <td>1979-08-02</td>\n",
       "      <td>Canton, OH</td>\n",
       "      <td>United States</td>\n",
       "      <td>NaN</td>\n",
       "      <td>NaN</td>\n",
       "      <td>NaN</td>\n",
       "      <td>NaN</td>\n",
       "      <td>...</td>\n",
       "      <td>Personal</td>\n",
       "      <td>NaN</td>\n",
       "      <td>1.0</td>\n",
       "      <td>2.0</td>\n",
       "      <td>NaN</td>\n",
       "      <td>0.0</td>\n",
       "      <td>VMC</td>\n",
       "      <td>Approach</td>\n",
       "      <td>Probable Cause</td>\n",
       "      <td>16-04-1980</td>\n",
       "    </tr>\n",
       "  </tbody>\n",
       "</table>\n",
       "<p>5 rows × 31 columns</p>\n",
       "</div>"
      ],
      "text/plain": [
       "         Event.Id Investigation.Type Accident.Number  Event.Date  \\\n",
       "0  20001218X45444           Accident      SEA87LA080  1948-10-24   \n",
       "1  20001218X45447           Accident      LAX94LA336  1962-07-19   \n",
       "2  20061025X01555           Accident      NYC07LA005  1974-08-30   \n",
       "3  20001218X45448           Accident      LAX96LA321  1977-06-19   \n",
       "4  20041105X01764           Accident      CHI79FA064  1979-08-02   \n",
       "\n",
       "          Location        Country Latitude Longitude Airport.Code  \\\n",
       "0  MOOSE CREEK, ID  United States      NaN       NaN          NaN   \n",
       "1   BRIDGEPORT, CA  United States      NaN       NaN          NaN   \n",
       "2    Saltville, VA  United States  36.9222  -81.8781          NaN   \n",
       "3       EUREKA, CA  United States      NaN       NaN          NaN   \n",
       "4       Canton, OH  United States      NaN       NaN          NaN   \n",
       "\n",
       "  Airport.Name  ... Purpose.of.flight Air.carrier Total.Fatal.Injuries  \\\n",
       "0          NaN  ...          Personal         NaN                  2.0   \n",
       "1          NaN  ...          Personal         NaN                  4.0   \n",
       "2          NaN  ...          Personal         NaN                  3.0   \n",
       "3          NaN  ...          Personal         NaN                  2.0   \n",
       "4          NaN  ...          Personal         NaN                  1.0   \n",
       "\n",
       "  Total.Serious.Injuries Total.Minor.Injuries Total.Uninjured  \\\n",
       "0                    0.0                  0.0             0.0   \n",
       "1                    0.0                  0.0             0.0   \n",
       "2                    NaN                  NaN             NaN   \n",
       "3                    0.0                  0.0             0.0   \n",
       "4                    2.0                  NaN             0.0   \n",
       "\n",
       "  Weather.Condition  Broad.phase.of.flight   Report.Status Publication.Date  \n",
       "0               UNK                 Cruise  Probable Cause              NaN  \n",
       "1               UNK                Unknown  Probable Cause       19-09-1996  \n",
       "2               IMC                 Cruise  Probable Cause       26-02-2007  \n",
       "3               IMC                 Cruise  Probable Cause       12-09-2000  \n",
       "4               VMC               Approach  Probable Cause       16-04-1980  \n",
       "\n",
       "[5 rows x 31 columns]"
      ]
     },
     "execution_count": 209,
     "metadata": {},
     "output_type": "execute_result"
    }
   ],
   "source": [
    "# reading and loading the dataset\n",
    "aviation_data = pd.read_csv(\"data\\AviationData.csv\", encoding = \"latin1\")\n",
    "aviation_data.head()"
   ]
  },
  {
   "cell_type": "code",
   "execution_count": null,
   "metadata": {},
   "outputs": [],
   "source": [
    "aviation_data.tail()"
   ]
  },
  {
   "cell_type": "code",
   "execution_count": null,
   "metadata": {},
   "outputs": [],
   "source": [
    "aviation_data.sample(5, random_state= 4)"
   ]
  },
  {
   "cell_type": "code",
   "execution_count": 210,
   "metadata": {},
   "outputs": [
    {
     "data": {
      "text/plain": [
       "(88889, 31)"
      ]
     },
     "execution_count": 210,
     "metadata": {},
     "output_type": "execute_result"
    }
   ],
   "source": [
    "# checking rows and columns shape\n",
    "aviation_data.shape"
   ]
  },
  {
   "cell_type": "markdown",
   "metadata": {},
   "source": [
    "The above dataset has a total of 88889 records and 31 features"
   ]
  },
  {
   "cell_type": "code",
   "execution_count": 211,
   "metadata": {},
   "outputs": [
    {
     "data": {
      "text/plain": [
       "Index(['Event.Id', 'Investigation.Type', 'Accident.Number', 'Event.Date',\n",
       "       'Location', 'Country', 'Latitude', 'Longitude', 'Airport.Code',\n",
       "       'Airport.Name', 'Injury.Severity', 'Aircraft.damage',\n",
       "       'Aircraft.Category', 'Registration.Number', 'Make', 'Model',\n",
       "       'Amateur.Built', 'Number.of.Engines', 'Engine.Type', 'FAR.Description',\n",
       "       'Schedule', 'Purpose.of.flight', 'Air.carrier', 'Total.Fatal.Injuries',\n",
       "       'Total.Serious.Injuries', 'Total.Minor.Injuries', 'Total.Uninjured',\n",
       "       'Weather.Condition', 'Broad.phase.of.flight', 'Report.Status',\n",
       "       'Publication.Date'],\n",
       "      dtype='object')"
      ]
     },
     "execution_count": 211,
     "metadata": {},
     "output_type": "execute_result"
    }
   ],
   "source": [
    "# column names\n",
    "aviation_data.columns"
   ]
  },
  {
   "cell_type": "code",
   "execution_count": 212,
   "metadata": {
    "scrolled": false
   },
   "outputs": [
    {
     "name": "stdout",
     "output_type": "stream",
     "text": [
      "<class 'pandas.core.frame.DataFrame'>\n",
      "RangeIndex: 88889 entries, 0 to 88888\n",
      "Data columns (total 31 columns):\n",
      " #   Column                  Non-Null Count  Dtype  \n",
      "---  ------                  --------------  -----  \n",
      " 0   Event.Id                88889 non-null  object \n",
      " 1   Investigation.Type      88889 non-null  object \n",
      " 2   Accident.Number         88889 non-null  object \n",
      " 3   Event.Date              88889 non-null  object \n",
      " 4   Location                88837 non-null  object \n",
      " 5   Country                 88663 non-null  object \n",
      " 6   Latitude                34382 non-null  object \n",
      " 7   Longitude               34373 non-null  object \n",
      " 8   Airport.Code            50249 non-null  object \n",
      " 9   Airport.Name            52790 non-null  object \n",
      " 10  Injury.Severity         87889 non-null  object \n",
      " 11  Aircraft.damage         85695 non-null  object \n",
      " 12  Aircraft.Category       32287 non-null  object \n",
      " 13  Registration.Number     87572 non-null  object \n",
      " 14  Make                    88826 non-null  object \n",
      " 15  Model                   88797 non-null  object \n",
      " 16  Amateur.Built           88787 non-null  object \n",
      " 17  Number.of.Engines       82805 non-null  float64\n",
      " 18  Engine.Type             81812 non-null  object \n",
      " 19  FAR.Description         32023 non-null  object \n",
      " 20  Schedule                12582 non-null  object \n",
      " 21  Purpose.of.flight       82697 non-null  object \n",
      " 22  Air.carrier             16648 non-null  object \n",
      " 23  Total.Fatal.Injuries    77488 non-null  float64\n",
      " 24  Total.Serious.Injuries  76379 non-null  float64\n",
      " 25  Total.Minor.Injuries    76956 non-null  float64\n",
      " 26  Total.Uninjured         82977 non-null  float64\n",
      " 27  Weather.Condition       84397 non-null  object \n",
      " 28  Broad.phase.of.flight   61724 non-null  object \n",
      " 29  Report.Status           82508 non-null  object \n",
      " 30  Publication.Date        75118 non-null  object \n",
      "dtypes: float64(5), object(26)\n",
      "memory usage: 21.0+ MB\n"
     ]
    }
   ],
   "source": [
    "# checking data info, dtypes and non null counts\n",
    "aviation_data.info()"
   ]
  },
  {
   "cell_type": "markdown",
   "metadata": {},
   "source": [
    "From the above information, its clearly notable that the dataset has a total of 5 columns with numerical data types and\n",
    "26 columns consisting of categorical data.some columns such as Event.Date have data type object instead of date time, most of the variables have null values only a few variables have no null values\n",
    "that indicates that data needs to cleaned before analysis."
   ]
  },
  {
   "cell_type": "code",
   "execution_count": 213,
   "metadata": {
    "scrolled": true
   },
   "outputs": [
    {
     "data": {
      "text/html": [
       "<div>\n",
       "<style scoped>\n",
       "    .dataframe tbody tr th:only-of-type {\n",
       "        vertical-align: middle;\n",
       "    }\n",
       "\n",
       "    .dataframe tbody tr th {\n",
       "        vertical-align: top;\n",
       "    }\n",
       "\n",
       "    .dataframe thead th {\n",
       "        text-align: right;\n",
       "    }\n",
       "</style>\n",
       "<table border=\"1\" class=\"dataframe\">\n",
       "  <thead>\n",
       "    <tr style=\"text-align: right;\">\n",
       "      <th></th>\n",
       "      <th>count</th>\n",
       "      <th>mean</th>\n",
       "      <th>std</th>\n",
       "      <th>min</th>\n",
       "      <th>25%</th>\n",
       "      <th>50%</th>\n",
       "      <th>75%</th>\n",
       "      <th>max</th>\n",
       "    </tr>\n",
       "  </thead>\n",
       "  <tbody>\n",
       "    <tr>\n",
       "      <th>Number.of.Engines</th>\n",
       "      <td>82805.0</td>\n",
       "      <td>1.146585</td>\n",
       "      <td>0.446510</td>\n",
       "      <td>0.0</td>\n",
       "      <td>1.0</td>\n",
       "      <td>1.0</td>\n",
       "      <td>1.0</td>\n",
       "      <td>8.0</td>\n",
       "    </tr>\n",
       "    <tr>\n",
       "      <th>Total.Fatal.Injuries</th>\n",
       "      <td>77488.0</td>\n",
       "      <td>0.647855</td>\n",
       "      <td>5.485960</td>\n",
       "      <td>0.0</td>\n",
       "      <td>0.0</td>\n",
       "      <td>0.0</td>\n",
       "      <td>0.0</td>\n",
       "      <td>349.0</td>\n",
       "    </tr>\n",
       "    <tr>\n",
       "      <th>Total.Serious.Injuries</th>\n",
       "      <td>76379.0</td>\n",
       "      <td>0.279881</td>\n",
       "      <td>1.544084</td>\n",
       "      <td>0.0</td>\n",
       "      <td>0.0</td>\n",
       "      <td>0.0</td>\n",
       "      <td>0.0</td>\n",
       "      <td>161.0</td>\n",
       "    </tr>\n",
       "    <tr>\n",
       "      <th>Total.Minor.Injuries</th>\n",
       "      <td>76956.0</td>\n",
       "      <td>0.357061</td>\n",
       "      <td>2.235625</td>\n",
       "      <td>0.0</td>\n",
       "      <td>0.0</td>\n",
       "      <td>0.0</td>\n",
       "      <td>0.0</td>\n",
       "      <td>380.0</td>\n",
       "    </tr>\n",
       "    <tr>\n",
       "      <th>Total.Uninjured</th>\n",
       "      <td>82977.0</td>\n",
       "      <td>5.325440</td>\n",
       "      <td>27.913634</td>\n",
       "      <td>0.0</td>\n",
       "      <td>0.0</td>\n",
       "      <td>1.0</td>\n",
       "      <td>2.0</td>\n",
       "      <td>699.0</td>\n",
       "    </tr>\n",
       "  </tbody>\n",
       "</table>\n",
       "</div>"
      ],
      "text/plain": [
       "                          count      mean        std  min  25%  50%  75%  \\\n",
       "Number.of.Engines       82805.0  1.146585   0.446510  0.0  1.0  1.0  1.0   \n",
       "Total.Fatal.Injuries    77488.0  0.647855   5.485960  0.0  0.0  0.0  0.0   \n",
       "Total.Serious.Injuries  76379.0  0.279881   1.544084  0.0  0.0  0.0  0.0   \n",
       "Total.Minor.Injuries    76956.0  0.357061   2.235625  0.0  0.0  0.0  0.0   \n",
       "Total.Uninjured         82977.0  5.325440  27.913634  0.0  0.0  1.0  2.0   \n",
       "\n",
       "                          max  \n",
       "Number.of.Engines         8.0  \n",
       "Total.Fatal.Injuries    349.0  \n",
       "Total.Serious.Injuries  161.0  \n",
       "Total.Minor.Injuries    380.0  \n",
       "Total.Uninjured         699.0  "
      ]
     },
     "execution_count": 213,
     "metadata": {},
     "output_type": "execute_result"
    }
   ],
   "source": [
    "# checking for statistical info\n",
    "aviation_data.describe().T"
   ]
  },
  {
   "cell_type": "code",
   "execution_count": 214,
   "metadata": {},
   "outputs": [
    {
     "data": {
      "text/html": [
       "<div>\n",
       "<style scoped>\n",
       "    .dataframe tbody tr th:only-of-type {\n",
       "        vertical-align: middle;\n",
       "    }\n",
       "\n",
       "    .dataframe tbody tr th {\n",
       "        vertical-align: top;\n",
       "    }\n",
       "\n",
       "    .dataframe thead th {\n",
       "        text-align: right;\n",
       "    }\n",
       "</style>\n",
       "<table border=\"1\" class=\"dataframe\">\n",
       "  <thead>\n",
       "    <tr style=\"text-align: right;\">\n",
       "      <th></th>\n",
       "      <th>Event.Id</th>\n",
       "      <th>Investigation.Type</th>\n",
       "      <th>Accident.Number</th>\n",
       "      <th>Event.Date</th>\n",
       "      <th>Location</th>\n",
       "      <th>Country</th>\n",
       "      <th>Latitude</th>\n",
       "      <th>Longitude</th>\n",
       "      <th>Airport.Code</th>\n",
       "      <th>Airport.Name</th>\n",
       "      <th>...</th>\n",
       "      <th>Amateur.Built</th>\n",
       "      <th>Engine.Type</th>\n",
       "      <th>FAR.Description</th>\n",
       "      <th>Schedule</th>\n",
       "      <th>Purpose.of.flight</th>\n",
       "      <th>Air.carrier</th>\n",
       "      <th>Weather.Condition</th>\n",
       "      <th>Broad.phase.of.flight</th>\n",
       "      <th>Report.Status</th>\n",
       "      <th>Publication.Date</th>\n",
       "    </tr>\n",
       "  </thead>\n",
       "  <tbody>\n",
       "    <tr>\n",
       "      <th>count</th>\n",
       "      <td>88889</td>\n",
       "      <td>88889</td>\n",
       "      <td>88889</td>\n",
       "      <td>88889</td>\n",
       "      <td>88837</td>\n",
       "      <td>88663</td>\n",
       "      <td>34382</td>\n",
       "      <td>34373</td>\n",
       "      <td>50249</td>\n",
       "      <td>52790</td>\n",
       "      <td>...</td>\n",
       "      <td>88787</td>\n",
       "      <td>81812</td>\n",
       "      <td>32023</td>\n",
       "      <td>12582</td>\n",
       "      <td>82697</td>\n",
       "      <td>16648</td>\n",
       "      <td>84397</td>\n",
       "      <td>61724</td>\n",
       "      <td>82508</td>\n",
       "      <td>75118</td>\n",
       "    </tr>\n",
       "    <tr>\n",
       "      <th>unique</th>\n",
       "      <td>87951</td>\n",
       "      <td>2</td>\n",
       "      <td>88863</td>\n",
       "      <td>14782</td>\n",
       "      <td>27758</td>\n",
       "      <td>219</td>\n",
       "      <td>25592</td>\n",
       "      <td>27156</td>\n",
       "      <td>10375</td>\n",
       "      <td>24871</td>\n",
       "      <td>...</td>\n",
       "      <td>2</td>\n",
       "      <td>13</td>\n",
       "      <td>31</td>\n",
       "      <td>3</td>\n",
       "      <td>26</td>\n",
       "      <td>13590</td>\n",
       "      <td>4</td>\n",
       "      <td>12</td>\n",
       "      <td>17075</td>\n",
       "      <td>2924</td>\n",
       "    </tr>\n",
       "    <tr>\n",
       "      <th>top</th>\n",
       "      <td>20001214X45071</td>\n",
       "      <td>Accident</td>\n",
       "      <td>CEN23MA034</td>\n",
       "      <td>2000-07-08</td>\n",
       "      <td>ANCHORAGE, AK</td>\n",
       "      <td>United States</td>\n",
       "      <td>332739N</td>\n",
       "      <td>0112457W</td>\n",
       "      <td>NONE</td>\n",
       "      <td>Private</td>\n",
       "      <td>...</td>\n",
       "      <td>No</td>\n",
       "      <td>Reciprocating</td>\n",
       "      <td>091</td>\n",
       "      <td>NSCH</td>\n",
       "      <td>Personal</td>\n",
       "      <td>Pilot</td>\n",
       "      <td>VMC</td>\n",
       "      <td>Landing</td>\n",
       "      <td>Probable Cause</td>\n",
       "      <td>25-09-2020</td>\n",
       "    </tr>\n",
       "    <tr>\n",
       "      <th>freq</th>\n",
       "      <td>3</td>\n",
       "      <td>85015</td>\n",
       "      <td>2</td>\n",
       "      <td>25</td>\n",
       "      <td>434</td>\n",
       "      <td>82248</td>\n",
       "      <td>19</td>\n",
       "      <td>24</td>\n",
       "      <td>1488</td>\n",
       "      <td>240</td>\n",
       "      <td>...</td>\n",
       "      <td>80312</td>\n",
       "      <td>69530</td>\n",
       "      <td>18221</td>\n",
       "      <td>4474</td>\n",
       "      <td>49448</td>\n",
       "      <td>258</td>\n",
       "      <td>77303</td>\n",
       "      <td>15428</td>\n",
       "      <td>61754</td>\n",
       "      <td>17019</td>\n",
       "    </tr>\n",
       "  </tbody>\n",
       "</table>\n",
       "<p>4 rows × 26 columns</p>\n",
       "</div>"
      ],
      "text/plain": [
       "              Event.Id Investigation.Type Accident.Number  Event.Date  \\\n",
       "count            88889              88889           88889       88889   \n",
       "unique           87951                  2           88863       14782   \n",
       "top     20001214X45071           Accident      CEN23MA034  2000-07-08   \n",
       "freq                 3              85015               2          25   \n",
       "\n",
       "             Location        Country Latitude Longitude Airport.Code  \\\n",
       "count           88837          88663    34382     34373        50249   \n",
       "unique          27758            219    25592     27156        10375   \n",
       "top     ANCHORAGE, AK  United States  332739N  0112457W         NONE   \n",
       "freq              434          82248       19        24         1488   \n",
       "\n",
       "       Airport.Name  ... Amateur.Built    Engine.Type FAR.Description  \\\n",
       "count         52790  ...         88787          81812           32023   \n",
       "unique        24871  ...             2             13              31   \n",
       "top         Private  ...            No  Reciprocating             091   \n",
       "freq            240  ...         80312          69530           18221   \n",
       "\n",
       "       Schedule Purpose.of.flight Air.carrier Weather.Condition  \\\n",
       "count     12582             82697       16648             84397   \n",
       "unique        3                26       13590                 4   \n",
       "top        NSCH          Personal       Pilot               VMC   \n",
       "freq       4474             49448         258             77303   \n",
       "\n",
       "       Broad.phase.of.flight   Report.Status Publication.Date  \n",
       "count                  61724           82508            75118  \n",
       "unique                    12           17075             2924  \n",
       "top                  Landing  Probable Cause       25-09-2020  \n",
       "freq                   15428           61754            17019  \n",
       "\n",
       "[4 rows x 26 columns]"
      ]
     },
     "execution_count": 214,
     "metadata": {},
     "output_type": "execute_result"
    }
   ],
   "source": [
    "# categorical info\n",
    "aviation_data.describe(include= \"O\").head(10)"
   ]
  },
  {
   "cell_type": "code",
   "execution_count": 215,
   "metadata": {},
   "outputs": [],
   "source": [
    "# us_code_data= pd.read_csv(\"data/USState_Codes.csv\", encoding= \"latin1\")"
   ]
  },
  {
   "cell_type": "markdown",
   "metadata": {},
   "source": [
    "## Data cleaning"
   ]
  },
  {
   "cell_type": "code",
   "execution_count": 216,
   "metadata": {},
   "outputs": [],
   "source": [
    "# creating a copy of a data frame to be used in cleaning\n",
    "aviation_cleaned_data = aviation_data.copy(deep= True)"
   ]
  },
  {
   "cell_type": "code",
   "execution_count": 217,
   "metadata": {},
   "outputs": [],
   "source": [
    "# converting data type of Event date and publication data\n",
    "aviation_cleaned_data['Event.Date'] = pd.to_datetime(aviation_cleaned_data['Event.Date'], errors= \"coerce\")\n",
    "aviation_cleaned_data['Publication.Date'] = pd.to_datetime(aviation_cleaned_data[\"Event.Date\"], errors= \"coerce\")"
   ]
  },
  {
   "cell_type": "code",
   "execution_count": 218,
   "metadata": {},
   "outputs": [
    {
     "data": {
      "text/plain": [
       "Total.Uninjured            5912\n",
       "Total.Minor.Injuries      11933\n",
       "Total.Serious.Injuries    12510\n",
       "Total.Fatal.Injuries      11401\n",
       "Number.of.Engines          6084\n",
       "dtype: int64"
      ]
     },
     "execution_count": 218,
     "metadata": {},
     "output_type": "execute_result"
    }
   ],
   "source": [
    "# converting columns with float dtype to number(int)\n",
    "# check if there are missing values\n",
    "aviation_cleaned_data[['Total.Uninjured', 'Total.Minor.Injuries', 'Total.Serious.Injuries', 'Total.Fatal.Injuries', \n",
    "                      'Number.of.Engines']].isnull().sum()\n",
    "# aviation_cleaned_data['Total.Uninjured'] = pd.to_"
   ]
  },
  {
   "cell_type": "code",
   "execution_count": 219,
   "metadata": {},
   "outputs": [],
   "source": [
    "# filling missing values in above columns\n",
    "aviation_cleaned_data[['Total.Uninjured', 'Total.Minor.Injuries', 'Total.Serious.Injuries', 'Total.Fatal.Injuries', \n",
    "                      'Number.of.Engines']]= aviation_cleaned_data[['Total.Uninjured', 'Total.Minor.Injuries', 'Total.Serious.Injuries', 'Total.Fatal.Injuries', \n",
    "                      'Number.of.Engines']].fillna(0)"
   ]
  },
  {
   "cell_type": "code",
   "execution_count": 220,
   "metadata": {},
   "outputs": [
    {
     "data": {
      "text/plain": [
       "Total.Uninjured           0\n",
       "Total.Minor.Injuries      0\n",
       "Total.Serious.Injuries    0\n",
       "Total.Fatal.Injuries      0\n",
       "Number.of.Engines         0\n",
       "dtype: int64"
      ]
     },
     "execution_count": 220,
     "metadata": {},
     "output_type": "execute_result"
    }
   ],
   "source": [
    "# checking missing values\n",
    "aviation_cleaned_data[['Total.Uninjured', 'Total.Minor.Injuries', 'Total.Serious.Injuries', 'Total.Fatal.Injuries', \n",
    "                      'Number.of.Engines']].isnull().sum()"
   ]
  },
  {
   "cell_type": "code",
   "execution_count": 221,
   "metadata": {},
   "outputs": [],
   "source": [
    "# conveting to interger\n",
    "aviation_cleaned_data[['Total.Uninjured', 'Total.Minor.Injuries', 'Total.Serious.Injuries', 'Total.Fatal.Injuries', \n",
    "                      'Number.of.Engines']]= aviation_cleaned_data[['Total.Uninjured', 'Total.Minor.Injuries', 'Total.Serious.Injuries', 'Total.Fatal.Injuries', \n",
    "                      'Number.of.Engines']].astype(int)"
   ]
  },
  {
   "cell_type": "code",
   "execution_count": 222,
   "metadata": {},
   "outputs": [
    {
     "name": "stdout",
     "output_type": "stream",
     "text": [
      "<class 'pandas.core.frame.DataFrame'>\n",
      "RangeIndex: 88889 entries, 0 to 88888\n",
      "Data columns (total 31 columns):\n",
      " #   Column                  Non-Null Count  Dtype         \n",
      "---  ------                  --------------  -----         \n",
      " 0   Event.Id                88889 non-null  object        \n",
      " 1   Investigation.Type      88889 non-null  object        \n",
      " 2   Accident.Number         88889 non-null  object        \n",
      " 3   Event.Date              88889 non-null  datetime64[ns]\n",
      " 4   Location                88837 non-null  object        \n",
      " 5   Country                 88663 non-null  object        \n",
      " 6   Latitude                34382 non-null  object        \n",
      " 7   Longitude               34373 non-null  object        \n",
      " 8   Airport.Code            50249 non-null  object        \n",
      " 9   Airport.Name            52790 non-null  object        \n",
      " 10  Injury.Severity         87889 non-null  object        \n",
      " 11  Aircraft.damage         85695 non-null  object        \n",
      " 12  Aircraft.Category       32287 non-null  object        \n",
      " 13  Registration.Number     87572 non-null  object        \n",
      " 14  Make                    88826 non-null  object        \n",
      " 15  Model                   88797 non-null  object        \n",
      " 16  Amateur.Built           88787 non-null  object        \n",
      " 17  Number.of.Engines       88889 non-null  int32         \n",
      " 18  Engine.Type             81812 non-null  object        \n",
      " 19  FAR.Description         32023 non-null  object        \n",
      " 20  Schedule                12582 non-null  object        \n",
      " 21  Purpose.of.flight       82697 non-null  object        \n",
      " 22  Air.carrier             16648 non-null  object        \n",
      " 23  Total.Fatal.Injuries    88889 non-null  int32         \n",
      " 24  Total.Serious.Injuries  88889 non-null  int32         \n",
      " 25  Total.Minor.Injuries    88889 non-null  int32         \n",
      " 26  Total.Uninjured         88889 non-null  int32         \n",
      " 27  Weather.Condition       84397 non-null  object        \n",
      " 28  Broad.phase.of.flight   61724 non-null  object        \n",
      " 29  Report.Status           82508 non-null  object        \n",
      " 30  Publication.Date        88889 non-null  datetime64[ns]\n",
      "dtypes: datetime64[ns](2), int32(5), object(24)\n",
      "memory usage: 19.3+ MB\n"
     ]
    }
   ],
   "source": [
    "# checking effectiveness\n",
    "aviation_cleaned_data.info()"
   ]
  },
  {
   "cell_type": "code",
   "execution_count": 223,
   "metadata": {},
   "outputs": [],
   "source": [
    "# removing . in column names and changing to lower case for uniformity\n",
    "aviation_cleaned_data.columns = aviation_cleaned_data.columns.str.lower().str.replace(\".\", \" \")"
   ]
  },
  {
   "cell_type": "code",
   "execution_count": 224,
   "metadata": {},
   "outputs": [
    {
     "data": {
      "text/plain": [
       "event id                   0.000000\n",
       "investigation type         0.000000\n",
       "accident number            0.000000\n",
       "event date                 0.000000\n",
       "location                   0.058500\n",
       "country                    0.254250\n",
       "latitude                  61.320298\n",
       "longitude                 61.330423\n",
       "airport code              43.469946\n",
       "airport name              40.611324\n",
       "injury severity            1.124999\n",
       "aircraft damage            3.593246\n",
       "aircraft category         63.677170\n",
       "registration number        1.481623\n",
       "make                       0.070875\n",
       "model                      0.103500\n",
       "amateur built              0.114750\n",
       "number of engines          0.000000\n",
       "engine type                7.961615\n",
       "far description           63.974170\n",
       "schedule                  85.845268\n",
       "purpose of flight          6.965991\n",
       "air carrier               81.271023\n",
       "total fatal injuries       0.000000\n",
       "total serious injuries     0.000000\n",
       "total minor injuries       0.000000\n",
       "total uninjured            0.000000\n",
       "weather condition          5.053494\n",
       "broad phase of flight     30.560587\n",
       "report status              7.178616\n",
       "publication date           0.000000\n",
       "dtype: float64"
      ]
     },
     "execution_count": 224,
     "metadata": {},
     "output_type": "execute_result"
    }
   ],
   "source": [
    "# checking missing values\n",
    "aviation_cleaned_data.isna().mean() * 100"
   ]
  },
  {
   "cell_type": "markdown",
   "metadata": {},
   "source": [
    "Observation\n",
    "\n",
    "some columns have  65% and above 0f their values missing, they need to be dropped\n",
    "these columns are: schedule, air carrier and far description"
   ]
  },
  {
   "cell_type": "code",
   "execution_count": 225,
   "metadata": {},
   "outputs": [],
   "source": [
    "# checking columns unique value before dropping\n",
    "# for column in aviation_cleaned_data:\n",
    "#     unique_values= aviation_cleaned_data[column].unique()\n",
    "#     print(f\"'{column}', '\\n': {unique_values}\", '\\n')"
   ]
  },
  {
   "cell_type": "code",
   "execution_count": 226,
   "metadata": {},
   "outputs": [],
   "source": [
    "# dropping Schedule column and far description\n",
    "aviation_cleaned_data.drop(columns= [\"schedule\", \"far description\", 'latitude', 'longitude'], inplace= True)"
   ]
  },
  {
   "cell_type": "code",
   "execution_count": 227,
   "metadata": {},
   "outputs": [],
   "source": [
    "# checking columns\n",
    "# aviation_cleaned_data.columns"
   ]
  },
  {
   "cell_type": "code",
   "execution_count": 228,
   "metadata": {},
   "outputs": [
    {
     "data": {
      "text/plain": [
       "Index(['event id', 'investigation type', 'accident number', 'location',\n",
       "       'country', 'airport code', 'airport name', 'injury severity',\n",
       "       'aircraft damage', 'aircraft category', 'registration number', 'make',\n",
       "       'model', 'amateur built', 'engine type', 'purpose of flight',\n",
       "       'air carrier', 'weather condition', 'broad phase of flight',\n",
       "       'report status'],\n",
       "      dtype='object')"
      ]
     },
     "execution_count": 228,
     "metadata": {},
     "output_type": "execute_result"
    }
   ],
   "source": [
    "# checking columns with non-numerical data type\n",
    "aviation_cleaned_data.select_dtypes(include= \"O\").columns"
   ]
  },
  {
   "cell_type": "code",
   "execution_count": 229,
   "metadata": {},
   "outputs": [],
   "source": [
    "# cleaning all string columns in a dataframe\n",
    "# for column in aviation_cleaned_data.select_dtypes(include= \"O\").columns:\n",
    "#     aviation_cleaned_data[column]= aviation_cleaned_data[column].astype(str).str.strip().str.lower()"
   ]
  },
  {
   "cell_type": "code",
   "execution_count": 230,
   "metadata": {},
   "outputs": [],
   "source": [
    "# replacing nan with np.nan\n",
    "# aviation_cleaned_data.replace(\"nan\", np.nan, inplace= True)"
   ]
  },
  {
   "cell_type": "code",
   "execution_count": 231,
   "metadata": {},
   "outputs": [],
   "source": [
    "# lowering the make case to normalize or standardize the make\n",
    "aviation_cleaned_data['make']= aviation_cleaned_data['make'].str.strip().str.lower()"
   ]
  },
  {
   "cell_type": "code",
   "execution_count": 232,
   "metadata": {},
   "outputs": [
    {
     "data": {
      "text/plain": [
       "63"
      ]
     },
     "execution_count": 232,
     "metadata": {},
     "output_type": "execute_result"
    }
   ],
   "source": [
    "# making \n",
    "make_missing_model_known = (aviation_cleaned_data['make'].isnull()) & (aviation_cleaned_data['model'].notnull())\n",
    "aviation_cleaned_data['make'].isnull().sum()"
   ]
  },
  {
   "cell_type": "code",
   "execution_count": 233,
   "metadata": {},
   "outputs": [],
   "source": [
    "aviation_cleaned_data.loc[make_missing_model_known, 'make'] = \"cessna\"\n",
    "\n",
    "# aviation_cleaned_data.loc[make_missing_model_known, 'make']"
   ]
  },
  {
   "cell_type": "code",
   "execution_count": 234,
   "metadata": {},
   "outputs": [
    {
     "data": {
      "text/plain": [
       "43"
      ]
     },
     "execution_count": 234,
     "metadata": {},
     "output_type": "execute_result"
    }
   ],
   "source": [
    "# checking null values in make column\n",
    "aviation_cleaned_data['make'].isnull().sum()"
   ]
  },
  {
   "cell_type": "code",
   "execution_count": 235,
   "metadata": {},
   "outputs": [],
   "source": [
    "# filling in missing make values with unkwnown\n",
    "aviation_cleaned_data['make'] = aviation_cleaned_data['make'].fillna('unknown')"
   ]
  },
  {
   "cell_type": "code",
   "execution_count": 236,
   "metadata": {},
   "outputs": [
    {
     "data": {
      "text/plain": [
       "array(['stinson', 'piper', 'cessna', ..., 'james r dernovsek',\n",
       "       'orlican s r o', 'royse ralph l'], dtype=object)"
      ]
     },
     "execution_count": 236,
     "metadata": {},
     "output_type": "execute_result"
    }
   ],
   "source": [
    "aviation_cleaned_data['make'].unique()"
   ]
  },
  {
   "cell_type": "markdown",
   "metadata": {},
   "source": [
    "cleaning model rows"
   ]
  },
  {
   "cell_type": "code",
   "execution_count": 237,
   "metadata": {},
   "outputs": [
    {
     "data": {
      "text/plain": [
       "92"
      ]
     },
     "execution_count": 237,
     "metadata": {},
     "output_type": "execute_result"
    }
   ],
   "source": [
    "# checking missing values\n",
    "aviation_cleaned_data['model'].isnull().sum()"
   ]
  },
  {
   "cell_type": "markdown",
   "metadata": {},
   "source": [
    "Observation\n",
    "\n",
    "The model column has 92 missing records"
   ]
  },
  {
   "cell_type": "code",
   "execution_count": 238,
   "metadata": {},
   "outputs": [
    {
     "data": {
      "text/plain": [
       "make     model     \n",
       "cessna   152           2366\n",
       "         172           1753\n",
       "         172N          1163\n",
       "piper    PA-28-140      932\n",
       "cessna   150            829\n",
       "         172M           798\n",
       "         172P           689\n",
       "         182            659\n",
       "         180            621\n",
       "         150M           585\n",
       "piper    PA-18          578\n",
       "         PA-28-180      572\n",
       "         PA-18-150      571\n",
       "         PA-28-161      565\n",
       "         PA-28-181      529\n",
       "bell     206B           516\n",
       "boeing   737            489\n",
       "piper    PA-38-112      468\n",
       "cessna   150L           460\n",
       "beech    A36            419\n",
       "cessna   140            401\n",
       "         170B           389\n",
       "         172S           371\n",
       "grumman  G-164A         365\n",
       "piper    PA-32-300      356\n",
       "cessna   182P           355\n",
       "piper    PA-24-250      352\n",
       "         PA-28R-200     334\n",
       "         PA-12          324\n",
       "cessna   A188B          318\n",
       "dtype: int64"
      ]
     },
     "execution_count": 238,
     "metadata": {},
     "output_type": "execute_result"
    }
   ],
   "source": [
    "# checking the value counts of the most common 30 by make\n",
    "aviation_cleaned_data[['make', 'model']].value_counts().head(30)"
   ]
  },
  {
   "cell_type": "markdown",
   "metadata": {},
   "source": [
    "Observation\n",
    "\n",
    "In cessna make, model 152, is the most common model, and in piper make the most common model is PA-28-140,\n",
    "in bell make is 206B, boeing is 737, so we are going to use the common make to fill in the missing values in model\n",
    "using the the most common model, i.e if the make row is cessna and the model row is missing we are going to fill it with\n",
    "the most common model of cessna and so on with other model rows\n"
   ]
  },
  {
   "cell_type": "code",
   "execution_count": 239,
   "metadata": {
    "code_folding": []
   },
   "outputs": [],
   "source": [
    "# creating a list of most common 30 make \n",
    "valid_makes= ['cessna', 'piper', 'beech', 'boeing', 'bell', 'mooney', 'robinson', \n",
    "              'grumman', 'bellanca', 'hughes', 'schweizer', 'air tractor', 'aeronca', 'mcdonnell douglas', 'maule', \n",
    "              'champion', 'stinson']"
   ]
  },
  {
   "cell_type": "code",
   "execution_count": 240,
   "metadata": {
    "code_folding": []
   },
   "outputs": [],
   "source": [
    "# filtering the dataset to only valid makes\n",
    "aviation_data_filtered = aviation_cleaned_data[(aviation_cleaned_data['make'].isin(valid_makes)) & \n",
    "                                               (aviation_cleaned_data['model'].notna())]\n"
   ]
  },
  {
   "cell_type": "code",
   "execution_count": 241,
   "metadata": {},
   "outputs": [],
   "source": [
    "# checking rows where model is missing\n",
    "missing_model_aviation = aviation_cleaned_data[aviation_cleaned_data['model'].isna()]\n"
   ]
  },
  {
   "cell_type": "code",
   "execution_count": 242,
   "metadata": {},
   "outputs": [],
   "source": [
    "# creating  make to model dict\n",
    "model_mapping= (aviation_data_filtered.groupby('make')['model'].\n",
    "               agg(lambda x: x.mode().iloc[0] if not x.mode().empty else np.nan).to_dict()\n",
    "               )"
   ]
  },
  {
   "cell_type": "code",
   "execution_count": 243,
   "metadata": {},
   "outputs": [],
   "source": [
    "# filling missing models row by row\n",
    "for index, row in missing_model_aviation.iterrows():\n",
    "    make= row['make']\n",
    "    if make in model_mapping:\n",
    "        aviation_cleaned_data.at[index, 'model']= model_mapping[make]"
   ]
  },
  {
   "cell_type": "code",
   "execution_count": 244,
   "metadata": {},
   "outputs": [
    {
     "data": {
      "text/plain": [
       "78"
      ]
     },
     "execution_count": 244,
     "metadata": {},
     "output_type": "execute_result"
    }
   ],
   "source": [
    "# checking missing values in model\n",
    "aviation_cleaned_data['model'].isna().sum()"
   ]
  },
  {
   "cell_type": "code",
   "execution_count": 245,
   "metadata": {},
   "outputs": [],
   "source": [
    "aviation_cleaned_data['model'] = aviation_cleaned_data['model'].fillna('unknown')"
   ]
  },
  {
   "cell_type": "code",
   "execution_count": 246,
   "metadata": {},
   "outputs": [
    {
     "data": {
      "text/plain": [
       "0"
      ]
     },
     "execution_count": 246,
     "metadata": {},
     "output_type": "execute_result"
    }
   ],
   "source": [
    "aviation_cleaned_data['model'].isna().sum()"
   ]
  },
  {
   "cell_type": "markdown",
   "metadata": {
    "scrolled": true
   },
   "source": [
    "cleaning aircraft category column"
   ]
  },
  {
   "cell_type": "code",
   "execution_count": 247,
   "metadata": {},
   "outputs": [
    {
     "data": {
      "text/plain": [
       "NaN                  56602\n",
       "Airplane             27617\n",
       "Helicopter            3440\n",
       "Glider                 508\n",
       "Balloon                231\n",
       "Gyrocraft              173\n",
       "Weight-Shift           161\n",
       "Powered Parachute       91\n",
       "Ultralight              30\n",
       "Unknown                 14\n",
       "WSFT                     9\n",
       "Powered-Lift             5\n",
       "Blimp                    4\n",
       "UNK                      2\n",
       "Rocket                   1\n",
       "ULTR                     1\n",
       "Name: aircraft category, dtype: int64"
      ]
     },
     "execution_count": 247,
     "metadata": {},
     "output_type": "execute_result"
    }
   ],
   "source": [
    "# checking all unique values\n",
    "aircraft_category = aviation_cleaned_data['aircraft category'].value_counts(dropna= False)\n",
    "aircraft_category"
   ]
  },
  {
   "cell_type": "code",
   "execution_count": 248,
   "metadata": {},
   "outputs": [
    {
     "data": {
      "text/plain": [
       "array([nan, 'Airplane', 'Helicopter', 'Glider', 'Balloon', 'Gyrocraft',\n",
       "       'Ultralight', 'Unknown', 'Blimp', 'Powered-Lift', 'Weight-Shift',\n",
       "       'Powered Parachute', 'Rocket', 'WSFT', 'UNK', 'ULTR'], dtype=object)"
      ]
     },
     "execution_count": 248,
     "metadata": {},
     "output_type": "execute_result"
    }
   ],
   "source": [
    "aviation_cleaned_data['aircraft category'].unique()"
   ]
  },
  {
   "cell_type": "markdown",
   "metadata": {},
   "source": [
    "Observation some unique values are abbreviation of the full values such as WSFT simply means \n",
    "Weight-Shift category, ULTR means Ultralight aircraft category and UNK means Unknown"
   ]
  },
  {
   "cell_type": "code",
   "execution_count": 249,
   "metadata": {},
   "outputs": [],
   "source": [
    "# changing the abbreviations to full values\n",
    "# creating a dic of category abbreviations\n",
    "category_abb = {'WSFT': 'Weight-Shift',\n",
    "               'ULTR': 'Ultralight',\n",
    "               'UNK': 'Unknown'}"
   ]
  },
  {
   "cell_type": "code",
   "execution_count": 250,
   "metadata": {},
   "outputs": [],
   "source": [
    "# replacing abbreviations\n",
    "aviation_cleaned_data['aircraft category'] = aviation_cleaned_data['aircraft category'].replace(category_abb)"
   ]
  },
  {
   "cell_type": "code",
   "execution_count": 251,
   "metadata": {},
   "outputs": [
    {
     "data": {
      "text/plain": [
       "array([nan, 'Airplane', 'Helicopter', 'Glider', 'Balloon', 'Gyrocraft',\n",
       "       'Ultralight', 'Unknown', 'Blimp', 'Powered-Lift', 'Weight-Shift',\n",
       "       'Powered Parachute', 'Rocket'], dtype=object)"
      ]
     },
     "execution_count": 251,
     "metadata": {},
     "output_type": "execute_result"
    }
   ],
   "source": [
    "# checking unique values after replacing the abbreviations\n",
    "aviation_cleaned_data['aircraft category'].unique()"
   ]
  },
  {
   "cell_type": "code",
   "execution_count": 252,
   "metadata": {},
   "outputs": [
    {
     "data": {
      "text/plain": [
       "array([nan, 'Air Canada', 'Rocky Mountain Helicopters, In', ...,\n",
       "       'SKY WEST AVIATION INC TRUSTEE', 'GERBER RICHARD E',\n",
       "       'MC CESSNA 210N LLC'], dtype=object)"
      ]
     },
     "execution_count": 252,
     "metadata": {},
     "output_type": "execute_result"
    }
   ],
   "source": [
    "# checking columns value counts\n",
    "aviation_cleaned_data['air carrier'].unique()"
   ]
  },
  {
   "cell_type": "code",
   "execution_count": null,
   "metadata": {},
   "outputs": [],
   "source": []
  },
  {
   "cell_type": "code",
   "execution_count": 252,
   "metadata": {},
   "outputs": [
    {
     "data": {
      "text/plain": [
       "array(['UNK', 'IMC', 'VMC', nan, 'Unk'], dtype=object)"
      ]
     },
     "execution_count": 252,
     "metadata": {},
     "output_type": "execute_result"
    }
   ],
   "source": [
    "aviation_cleaned_data['weather condition'].unique()"
   ]
  },
  {
   "cell_type": "code",
   "execution_count": 217,
   "metadata": {},
   "outputs": [
    {
     "data": {
      "text/plain": [
       "72241"
      ]
     },
     "execution_count": 217,
     "metadata": {},
     "output_type": "execute_result"
    }
   ],
   "source": [
    "aviation_cleaned_data[\"air carrier\"].isna().sum()"
   ]
  },
  {
   "cell_type": "code",
   "execution_count": 220,
   "metadata": {},
   "outputs": [
    {
     "data": {
      "text/plain": [
       "7077"
      ]
     },
     "execution_count": 220,
     "metadata": {},
     "output_type": "execute_result"
    }
   ],
   "source": [
    "# checking Engine Type\n",
    "aviation_cleaned_data[\"engine type\"].isna().sum()"
   ]
  },
  {
   "cell_type": "code",
   "execution_count": 223,
   "metadata": {},
   "outputs": [
    {
     "data": {
      "text/plain": [
       "reciprocating      69530\n",
       "turbo shaft         3609\n",
       "turbo prop          3391\n",
       "turbo fan           2481\n",
       "unknown             2051\n",
       "turbo jet            703\n",
       "none                  21\n",
       "geared turbofan       12\n",
       "electric              10\n",
       "lr                     2\n",
       "hybrid rocket          1\n",
       "unk                    1\n",
       "Name: engine type, dtype: int64"
      ]
     },
     "execution_count": 223,
     "metadata": {},
     "output_type": "execute_result"
    }
   ],
   "source": [
    "# unique values\n",
    "aviation_cleaned_data[\"engine type\"].value_counts().head(20)"
   ]
  },
  {
   "cell_type": "code",
   "execution_count": 65,
   "metadata": {},
   "outputs": [
    {
     "data": {
      "text/plain": [
       "make      model     \n",
       "cessna    152           2366\n",
       "          172           1753\n",
       "          172N          1163\n",
       "piper     PA-28-140      932\n",
       "cessna    150            829\n",
       "          172M           798\n",
       "          172P           689\n",
       "          182            659\n",
       "          180            621\n",
       "          150M           585\n",
       "piper     PA-18          578\n",
       "          PA-28-180      572\n",
       "          PA-18-150      571\n",
       "          PA-28-161      565\n",
       "          PA-28-181      529\n",
       "bell      206B           516\n",
       "boeing    737            489\n",
       "piper     PA-38-112      468\n",
       "cessna    150L           460\n",
       "beech     A36            419\n",
       "cessna    140            401\n",
       "          170B           389\n",
       "          172S           371\n",
       "grumman   G-164A         365\n",
       "piper     PA-32-300      356\n",
       "cessna    182P           355\n",
       "piper     PA-24-250      352\n",
       "          PA-28R-200     334\n",
       "          PA-12          324\n",
       "cessna    A188B          318\n",
       "piper     PA-23-250      311\n",
       "cessna    177            296\n",
       "mooney    M20J           287\n",
       "cessna    A185F          285\n",
       "piper     PA-22-150      281\n",
       "          PA-31-350      280\n",
       "cessna    185            279\n",
       "piper     PA28           279\n",
       "aeronca   7AC            271\n",
       "robinson  R44            267\n",
       "cessna    182Q           266\n",
       "          150F           264\n",
       "          210            260\n",
       "piper     PA-25-235      257\n",
       "cessna    150H           245\n",
       "          172RG          245\n",
       "          T210N          244\n",
       "          150G           242\n",
       "beech     58             242\n",
       "cessna    177RG          236\n",
       "dtype: int64"
      ]
     },
     "execution_count": 65,
     "metadata": {},
     "output_type": "execute_result"
    }
   ],
   "source": [
    "# checking value counts\n",
    "aviation_cleaned_data[['make', 'model']].value_counts().head(50)"
   ]
  },
  {
   "cell_type": "code",
   "execution_count": 71,
   "metadata": {},
   "outputs": [
    {
     "data": {
      "text/plain": [
       "7587"
      ]
     },
     "execution_count": 71,
     "metadata": {},
     "output_type": "execute_result"
    }
   ],
   "source": [
    "aviation_cleaned_data['make'].unique()"
   ]
  },
  {
   "cell_type": "code",
   "execution_count": 54,
   "metadata": {},
   "outputs": [
    {
     "data": {
      "text/plain": [
       "False"
      ]
     },
     "execution_count": 54,
     "metadata": {},
     "output_type": "execute_result"
    }
   ],
   "source": [
    "# checking for duplicates\n",
    "aviation_data.duplicated().sum().any()"
   ]
  },
  {
   "cell_type": "code",
   "execution_count": 62,
   "metadata": {},
   "outputs": [
    {
     "data": {
      "text/html": [
       "<div>\n",
       "<style scoped>\n",
       "    .dataframe tbody tr th:only-of-type {\n",
       "        vertical-align: middle;\n",
       "    }\n",
       "\n",
       "    .dataframe tbody tr th {\n",
       "        vertical-align: top;\n",
       "    }\n",
       "\n",
       "    .dataframe thead th {\n",
       "        text-align: right;\n",
       "    }\n",
       "</style>\n",
       "<table border=\"1\" class=\"dataframe\">\n",
       "  <thead>\n",
       "    <tr style=\"text-align: right;\">\n",
       "      <th></th>\n",
       "      <th>Event.Id</th>\n",
       "      <th>Investigation.Type</th>\n",
       "      <th>Accident.Number</th>\n",
       "      <th>Event.Date</th>\n",
       "      <th>Location</th>\n",
       "      <th>Country</th>\n",
       "      <th>Latitude</th>\n",
       "      <th>Longitude</th>\n",
       "      <th>Airport.Code</th>\n",
       "      <th>Airport.Name</th>\n",
       "      <th>...</th>\n",
       "      <th>Purpose.of.flight</th>\n",
       "      <th>Air.carrier</th>\n",
       "      <th>Total.Fatal.Injuries</th>\n",
       "      <th>Total.Serious.Injuries</th>\n",
       "      <th>Total.Minor.Injuries</th>\n",
       "      <th>Total.Uninjured</th>\n",
       "      <th>Weather.Condition</th>\n",
       "      <th>Broad.phase.of.flight</th>\n",
       "      <th>Report.Status</th>\n",
       "      <th>Publication.Date</th>\n",
       "    </tr>\n",
       "  </thead>\n",
       "  <tbody>\n",
       "    <tr>\n",
       "      <th>117</th>\n",
       "      <td>20020917X01908</td>\n",
       "      <td>Accident</td>\n",
       "      <td>DCA82AA012B</td>\n",
       "      <td>1982-01-19</td>\n",
       "      <td>ROCKPORT, TX</td>\n",
       "      <td>United States</td>\n",
       "      <td>NaN</td>\n",
       "      <td>NaN</td>\n",
       "      <td>RKP</td>\n",
       "      <td>ARANSAS COUNTY AIRPORT</td>\n",
       "      <td>...</td>\n",
       "      <td>Personal</td>\n",
       "      <td>NaN</td>\n",
       "      <td>3.0</td>\n",
       "      <td>0.0</td>\n",
       "      <td>0.0</td>\n",
       "      <td>0.0</td>\n",
       "      <td>IMC</td>\n",
       "      <td>Approach</td>\n",
       "      <td>Probable Cause</td>\n",
       "      <td>19-01-1983</td>\n",
       "    </tr>\n",
       "    <tr>\n",
       "      <th>118</th>\n",
       "      <td>20020917X01908</td>\n",
       "      <td>Accident</td>\n",
       "      <td>DCA82AA012A</td>\n",
       "      <td>1982-01-19</td>\n",
       "      <td>ROCKPORT, TX</td>\n",
       "      <td>United States</td>\n",
       "      <td>NaN</td>\n",
       "      <td>NaN</td>\n",
       "      <td>RKP</td>\n",
       "      <td>ARANSAS COUNTY AIRPORT</td>\n",
       "      <td>...</td>\n",
       "      <td>Executive/corporate</td>\n",
       "      <td>NaN</td>\n",
       "      <td>3.0</td>\n",
       "      <td>0.0</td>\n",
       "      <td>0.0</td>\n",
       "      <td>0.0</td>\n",
       "      <td>IMC</td>\n",
       "      <td>Approach</td>\n",
       "      <td>Probable Cause</td>\n",
       "      <td>19-01-1983</td>\n",
       "    </tr>\n",
       "    <tr>\n",
       "      <th>153</th>\n",
       "      <td>20020917X02259</td>\n",
       "      <td>Accident</td>\n",
       "      <td>LAX82FA049A</td>\n",
       "      <td>1982-01-23</td>\n",
       "      <td>VICTORVILLE, CA</td>\n",
       "      <td>United States</td>\n",
       "      <td>NaN</td>\n",
       "      <td>NaN</td>\n",
       "      <td>NaN</td>\n",
       "      <td>NaN</td>\n",
       "      <td>...</td>\n",
       "      <td>Personal</td>\n",
       "      <td>NaN</td>\n",
       "      <td>2.0</td>\n",
       "      <td>0.0</td>\n",
       "      <td>4.0</td>\n",
       "      <td>0.0</td>\n",
       "      <td>VMC</td>\n",
       "      <td>Unknown</td>\n",
       "      <td>Probable Cause</td>\n",
       "      <td>23-01-1983</td>\n",
       "    </tr>\n",
       "    <tr>\n",
       "      <th>158</th>\n",
       "      <td>20020917X02400</td>\n",
       "      <td>Accident</td>\n",
       "      <td>MIA82FA038B</td>\n",
       "      <td>1982-01-23</td>\n",
       "      <td>NEWPORT RICHEY, FL</td>\n",
       "      <td>United States</td>\n",
       "      <td>NaN</td>\n",
       "      <td>NaN</td>\n",
       "      <td>NaN</td>\n",
       "      <td>NaN</td>\n",
       "      <td>...</td>\n",
       "      <td>Personal</td>\n",
       "      <td>NaN</td>\n",
       "      <td>0.0</td>\n",
       "      <td>0.0</td>\n",
       "      <td>0.0</td>\n",
       "      <td>3.0</td>\n",
       "      <td>VMC</td>\n",
       "      <td>Cruise</td>\n",
       "      <td>Probable Cause</td>\n",
       "      <td>23-01-1983</td>\n",
       "    </tr>\n",
       "    <tr>\n",
       "      <th>159</th>\n",
       "      <td>20020917X02400</td>\n",
       "      <td>Accident</td>\n",
       "      <td>MIA82FA038A</td>\n",
       "      <td>1982-01-23</td>\n",
       "      <td>NEWPORT RICHEY, FL</td>\n",
       "      <td>United States</td>\n",
       "      <td>NaN</td>\n",
       "      <td>NaN</td>\n",
       "      <td>NaN</td>\n",
       "      <td>NaN</td>\n",
       "      <td>...</td>\n",
       "      <td>Personal</td>\n",
       "      <td>NaN</td>\n",
       "      <td>0.0</td>\n",
       "      <td>0.0</td>\n",
       "      <td>0.0</td>\n",
       "      <td>3.0</td>\n",
       "      <td>VMC</td>\n",
       "      <td>Approach</td>\n",
       "      <td>Probable Cause</td>\n",
       "      <td>23-01-1983</td>\n",
       "    </tr>\n",
       "    <tr>\n",
       "      <th>...</th>\n",
       "      <td>...</td>\n",
       "      <td>...</td>\n",
       "      <td>...</td>\n",
       "      <td>...</td>\n",
       "      <td>...</td>\n",
       "      <td>...</td>\n",
       "      <td>...</td>\n",
       "      <td>...</td>\n",
       "      <td>...</td>\n",
       "      <td>...</td>\n",
       "      <td>...</td>\n",
       "      <td>...</td>\n",
       "      <td>...</td>\n",
       "      <td>...</td>\n",
       "      <td>...</td>\n",
       "      <td>...</td>\n",
       "      <td>...</td>\n",
       "      <td>...</td>\n",
       "      <td>...</td>\n",
       "      <td>...</td>\n",
       "      <td>...</td>\n",
       "    </tr>\n",
       "    <tr>\n",
       "      <th>88796</th>\n",
       "      <td>20221121106336</td>\n",
       "      <td>Accident</td>\n",
       "      <td>WPR23LA041</td>\n",
       "      <td>2022-11-18</td>\n",
       "      <td>Las Vegas, NV</td>\n",
       "      <td>United States</td>\n",
       "      <td>361239N</td>\n",
       "      <td>1151140W</td>\n",
       "      <td>VGT</td>\n",
       "      <td>NORTH LAS VEGAS</td>\n",
       "      <td>...</td>\n",
       "      <td>Instructional</td>\n",
       "      <td>702 HELICOPTER INC</td>\n",
       "      <td>0.0</td>\n",
       "      <td>0.0</td>\n",
       "      <td>0.0</td>\n",
       "      <td>3.0</td>\n",
       "      <td>VMC</td>\n",
       "      <td>NaN</td>\n",
       "      <td>NaN</td>\n",
       "      <td>07-12-2022</td>\n",
       "    </tr>\n",
       "    <tr>\n",
       "      <th>88797</th>\n",
       "      <td>20221122106340</td>\n",
       "      <td>Incident</td>\n",
       "      <td>DCA23WA071</td>\n",
       "      <td>2022-11-18</td>\n",
       "      <td>Marrakech,</td>\n",
       "      <td>Morocco</td>\n",
       "      <td>NaN</td>\n",
       "      <td>NaN</td>\n",
       "      <td>NaN</td>\n",
       "      <td>NaN</td>\n",
       "      <td>...</td>\n",
       "      <td>NaN</td>\n",
       "      <td>British Airways</td>\n",
       "      <td>0.0</td>\n",
       "      <td>0.0</td>\n",
       "      <td>0.0</td>\n",
       "      <td>0.0</td>\n",
       "      <td>NaN</td>\n",
       "      <td>NaN</td>\n",
       "      <td>NaN</td>\n",
       "      <td>NaN</td>\n",
       "    </tr>\n",
       "    <tr>\n",
       "      <th>88798</th>\n",
       "      <td>20221122106340</td>\n",
       "      <td>Incident</td>\n",
       "      <td>DCA23WA071</td>\n",
       "      <td>2022-11-18</td>\n",
       "      <td>Marrakech,</td>\n",
       "      <td>Morocco</td>\n",
       "      <td>NaN</td>\n",
       "      <td>NaN</td>\n",
       "      <td>NaN</td>\n",
       "      <td>NaN</td>\n",
       "      <td>...</td>\n",
       "      <td>NaN</td>\n",
       "      <td>Valair Private Jets</td>\n",
       "      <td>0.0</td>\n",
       "      <td>0.0</td>\n",
       "      <td>0.0</td>\n",
       "      <td>0.0</td>\n",
       "      <td>NaN</td>\n",
       "      <td>NaN</td>\n",
       "      <td>NaN</td>\n",
       "      <td>NaN</td>\n",
       "    </tr>\n",
       "    <tr>\n",
       "      <th>88813</th>\n",
       "      <td>20221123106354</td>\n",
       "      <td>Accident</td>\n",
       "      <td>WPR23LA045</td>\n",
       "      <td>2022-11-22</td>\n",
       "      <td>San Diego, CA</td>\n",
       "      <td>United States</td>\n",
       "      <td>323414N</td>\n",
       "      <td>1165825W</td>\n",
       "      <td>SDM</td>\n",
       "      <td>Brown Field Municipal Airport</td>\n",
       "      <td>...</td>\n",
       "      <td>Instructional</td>\n",
       "      <td>HeliStream Inc.</td>\n",
       "      <td>0.0</td>\n",
       "      <td>0.0</td>\n",
       "      <td>0.0</td>\n",
       "      <td>4.0</td>\n",
       "      <td>VMC</td>\n",
       "      <td>NaN</td>\n",
       "      <td>NaN</td>\n",
       "      <td>22-12-2022</td>\n",
       "    </tr>\n",
       "    <tr>\n",
       "      <th>88814</th>\n",
       "      <td>20221123106354</td>\n",
       "      <td>Accident</td>\n",
       "      <td>WPR23LA045</td>\n",
       "      <td>2022-11-22</td>\n",
       "      <td>San Diego, CA</td>\n",
       "      <td>United States</td>\n",
       "      <td>323414N</td>\n",
       "      <td>1165825W</td>\n",
       "      <td>SDM</td>\n",
       "      <td>Brown Field Municipal Airport</td>\n",
       "      <td>...</td>\n",
       "      <td>Public Aircraft - Federal</td>\n",
       "      <td>U.S. Navy</td>\n",
       "      <td>0.0</td>\n",
       "      <td>0.0</td>\n",
       "      <td>0.0</td>\n",
       "      <td>4.0</td>\n",
       "      <td>VMC</td>\n",
       "      <td>NaN</td>\n",
       "      <td>NaN</td>\n",
       "      <td>22-12-2022</td>\n",
       "    </tr>\n",
       "  </tbody>\n",
       "</table>\n",
       "<p>1874 rows × 31 columns</p>\n",
       "</div>"
      ],
      "text/plain": [
       "             Event.Id Investigation.Type Accident.Number  Event.Date  \\\n",
       "117    20020917X01908           Accident     DCA82AA012B  1982-01-19   \n",
       "118    20020917X01908           Accident     DCA82AA012A  1982-01-19   \n",
       "153    20020917X02259           Accident     LAX82FA049A  1982-01-23   \n",
       "158    20020917X02400           Accident     MIA82FA038B  1982-01-23   \n",
       "159    20020917X02400           Accident     MIA82FA038A  1982-01-23   \n",
       "...               ...                ...             ...         ...   \n",
       "88796  20221121106336           Accident      WPR23LA041  2022-11-18   \n",
       "88797  20221122106340           Incident      DCA23WA071  2022-11-18   \n",
       "88798  20221122106340           Incident      DCA23WA071  2022-11-18   \n",
       "88813  20221123106354           Accident      WPR23LA045  2022-11-22   \n",
       "88814  20221123106354           Accident      WPR23LA045  2022-11-22   \n",
       "\n",
       "                 Location        Country Latitude Longitude Airport.Code  \\\n",
       "117          ROCKPORT, TX  United States      NaN       NaN          RKP   \n",
       "118          ROCKPORT, TX  United States      NaN       NaN          RKP   \n",
       "153       VICTORVILLE, CA  United States      NaN       NaN          NaN   \n",
       "158    NEWPORT RICHEY, FL  United States      NaN       NaN          NaN   \n",
       "159    NEWPORT RICHEY, FL  United States      NaN       NaN          NaN   \n",
       "...                   ...            ...      ...       ...          ...   \n",
       "88796       Las Vegas, NV  United States  361239N  1151140W          VGT   \n",
       "88797         Marrakech,         Morocco      NaN       NaN          NaN   \n",
       "88798         Marrakech,         Morocco      NaN       NaN          NaN   \n",
       "88813       San Diego, CA  United States  323414N  1165825W          SDM   \n",
       "88814       San Diego, CA  United States  323414N  1165825W          SDM   \n",
       "\n",
       "                        Airport.Name  ...          Purpose.of.flight  \\\n",
       "117           ARANSAS COUNTY AIRPORT  ...                   Personal   \n",
       "118           ARANSAS COUNTY AIRPORT  ...        Executive/corporate   \n",
       "153                              NaN  ...                   Personal   \n",
       "158                              NaN  ...                   Personal   \n",
       "159                              NaN  ...                   Personal   \n",
       "...                              ...  ...                        ...   \n",
       "88796                NORTH LAS VEGAS  ...              Instructional   \n",
       "88797                            NaN  ...                        NaN   \n",
       "88798                            NaN  ...                        NaN   \n",
       "88813  Brown Field Municipal Airport  ...              Instructional   \n",
       "88814  Brown Field Municipal Airport  ...  Public Aircraft - Federal   \n",
       "\n",
       "               Air.carrier Total.Fatal.Injuries Total.Serious.Injuries  \\\n",
       "117                    NaN                  3.0                    0.0   \n",
       "118                    NaN                  3.0                    0.0   \n",
       "153                    NaN                  2.0                    0.0   \n",
       "158                    NaN                  0.0                    0.0   \n",
       "159                    NaN                  0.0                    0.0   \n",
       "...                    ...                  ...                    ...   \n",
       "88796   702 HELICOPTER INC                  0.0                    0.0   \n",
       "88797      British Airways                  0.0                    0.0   \n",
       "88798  Valair Private Jets                  0.0                    0.0   \n",
       "88813      HeliStream Inc.                  0.0                    0.0   \n",
       "88814            U.S. Navy                  0.0                    0.0   \n",
       "\n",
       "      Total.Minor.Injuries Total.Uninjured Weather.Condition  \\\n",
       "117                    0.0             0.0               IMC   \n",
       "118                    0.0             0.0               IMC   \n",
       "153                    4.0             0.0               VMC   \n",
       "158                    0.0             3.0               VMC   \n",
       "159                    0.0             3.0               VMC   \n",
       "...                    ...             ...               ...   \n",
       "88796                  0.0             3.0               VMC   \n",
       "88797                  0.0             0.0               NaN   \n",
       "88798                  0.0             0.0               NaN   \n",
       "88813                  0.0             4.0               VMC   \n",
       "88814                  0.0             4.0               VMC   \n",
       "\n",
       "       Broad.phase.of.flight   Report.Status Publication.Date  \n",
       "117                 Approach  Probable Cause       19-01-1983  \n",
       "118                 Approach  Probable Cause       19-01-1983  \n",
       "153                  Unknown  Probable Cause       23-01-1983  \n",
       "158                   Cruise  Probable Cause       23-01-1983  \n",
       "159                 Approach  Probable Cause       23-01-1983  \n",
       "...                      ...             ...              ...  \n",
       "88796                    NaN             NaN       07-12-2022  \n",
       "88797                    NaN             NaN              NaN  \n",
       "88798                    NaN             NaN              NaN  \n",
       "88813                    NaN             NaN       22-12-2022  \n",
       "88814                    NaN             NaN       22-12-2022  \n",
       "\n",
       "[1874 rows x 31 columns]"
      ]
     },
     "execution_count": 62,
     "metadata": {},
     "output_type": "execute_result"
    }
   ],
   "source": [
    "# checking for duplicates in columns\n",
    "aviation_data[aviation_data.duplicated(subset= \"Event.Id\", keep= False)]"
   ]
  },
  {
   "cell_type": "markdown",
   "metadata": {},
   "source": [
    "The above dataset has no duplicated records"
   ]
  },
  {
   "cell_type": "code",
   "execution_count": null,
   "metadata": {},
   "outputs": [],
   "source": [
    "# \n",
    "\n"
   ]
  }
 ],
 "metadata": {
  "kernelspec": {
   "display_name": "Python (learn-env)",
   "language": "python",
   "name": "learn-env"
  },
  "language_info": {
   "codemirror_mode": {
    "name": "ipython",
    "version": 3
   },
   "file_extension": ".py",
   "mimetype": "text/x-python",
   "name": "python",
   "nbconvert_exporter": "python",
   "pygments_lexer": "ipython3",
   "version": "3.8.5"
  },
  "toc": {
   "base_numbering": 1,
   "nav_menu": {},
   "number_sections": true,
   "sideBar": true,
   "skip_h1_title": false,
   "title_cell": "Table of Contents",
   "title_sidebar": "Contents",
   "toc_cell": false,
   "toc_position": {},
   "toc_section_display": true,
   "toc_window_display": false
  },
  "varInspector": {
   "cols": {
    "lenName": 16,
    "lenType": 16,
    "lenVar": 40
   },
   "kernels_config": {
    "python": {
     "delete_cmd_postfix": "",
     "delete_cmd_prefix": "del ",
     "library": "var_list.py",
     "varRefreshCmd": "print(var_dic_list())"
    },
    "r": {
     "delete_cmd_postfix": ") ",
     "delete_cmd_prefix": "rm(",
     "library": "var_list.r",
     "varRefreshCmd": "cat(var_dic_list()) "
    }
   },
   "types_to_exclude": [
    "module",
    "function",
    "builtin_function_or_method",
    "instance",
    "_Feature"
   ],
   "window_display": false
  }
 },
 "nbformat": 4,
 "nbformat_minor": 4
}
